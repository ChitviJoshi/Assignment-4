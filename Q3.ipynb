{
  "nbformat": 4,
  "nbformat_minor": 0,
  "metadata": {
    "colab": {
      "provenance": [],
      "authorship_tag": "ABX9TyMAQJtco1H9gPqGuSCiWb9q",
      "include_colab_link": true
    },
    "kernelspec": {
      "name": "python3",
      "display_name": "Python 3"
    },
    "language_info": {
      "name": "python"
    }
  },
  "cells": [
    {
      "cell_type": "markdown",
      "metadata": {
        "id": "view-in-github",
        "colab_type": "text"
      },
      "source": [
        "<a href=\"https://colab.research.google.com/github/ChitviJoshi/Assignment-4/blob/main/Q3.ipynb\" target=\"_parent\"><img src=\"https://colab.research.google.com/assets/colab-badge.svg\" alt=\"Open In Colab\"/></a>"
      ]
    },
    {
      "cell_type": "code",
      "execution_count": 41,
      "metadata": {
        "colab": {
          "base_uri": "https://localhost:8080/"
        },
        "id": "Eh-pvsM4MHTc",
        "outputId": "9ca6aac2-f6f2-4ee1-a8ef-374e376a083f"
      },
      "outputs": [
        {
          "output_type": "stream",
          "name": "stdout",
          "text": [
            "Overwriting Q3.cpp\n"
          ]
        }
      ],
      "source": [
        "%%writefile Q3.cpp\n",
        "#include <iostream>\n",
        "#include <queue>\n",
        "using namespace std;\n",
        "\n",
        "void interleaveQueue(queue<int> &q) {\n",
        "    int n = q.size();\n",
        "\n",
        "    if (n % 2 != 0) {\n",
        "        cout << \"Queue must have even number of elements!\" << endl;\n",
        "        return;\n",
        "    }\n",
        "\n",
        "    int half = n / 2;\n",
        "    queue<int> f_h;\n",
        "\n",
        "    for (int i = 0; i < half; i++) {\n",
        "        f_h.push(q.front());\n",
        "        q.pop();\n",
        "    }\n",
        "\n",
        "    while (!f_h.empty()) {\n",
        "        q.push(f_h.front());\n",
        "        f_h.pop();\n",
        "\n",
        "        q.push(q.front());\n",
        "        q.pop();\n",
        "    }\n",
        "}\n",
        "\n",
        "void displayQueue(queue<int> q) {\n",
        "    while (!q.empty()) {\n",
        "        cout << q.front() << \" \";\n",
        "        q.pop();\n",
        "    }\n",
        "    cout << endl;\n",
        "}\n",
        "\n",
        "int main() {\n",
        "    queue<int> q;\n",
        "    int n, val;\n",
        "\n",
        "    cout << \"Enter number of elements (even): \";\n",
        "    cin >> n;\n",
        "\n",
        "    cout << \"Enter \" << n << \" elements: \";\n",
        "    for (int i = 0; i < n; i++) {\n",
        "        cin >> val;\n",
        "        q.push(val);\n",
        "    }\n",
        "\n",
        "    cout << \"\\nOriginal Queue: \";\n",
        "    displayQueue(q);\n",
        "\n",
        "    interleaveQueue(q);\n",
        "\n",
        "    cout << \"Interleaved Queue: \";\n",
        "    displayQueue(q);\n",
        "\n",
        "    return 0;\n",
        "}\n",
        "\n",
        "\n",
        "\n",
        "\n"
      ]
    },
    {
      "cell_type": "code",
      "source": [
        "!g++ Q3.cpp -o Q3\n",
        "!./Q3"
      ],
      "metadata": {
        "colab": {
          "base_uri": "https://localhost:8080/"
        },
        "id": "LJGY3RgtNLF0",
        "outputId": "2c221b0a-52b9-430a-8620-3245b5ac0185"
      },
      "execution_count": 43,
      "outputs": [
        {
          "output_type": "stream",
          "name": "stdout",
          "text": [
            "Enter number of elements (even): 6\n",
            "Enter 6 elements: 1\n",
            "4\n",
            "8\n",
            "6\n",
            "2\n",
            "3\n",
            "\n",
            "Original Queue: 1 4 8 6 2 3 \n",
            "Interleaved Queue: 1 6 4 2 8 3 \n"
          ]
        }
      ]
    }
  ]
}