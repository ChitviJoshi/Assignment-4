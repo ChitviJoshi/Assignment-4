{
  "nbformat": 4,
  "nbformat_minor": 0,
  "metadata": {
    "colab": {
      "provenance": [],
      "authorship_tag": "ABX9TyP7cUFzezrRJf9yFUbXCVyX",
      "include_colab_link": true
    },
    "kernelspec": {
      "name": "python3",
      "display_name": "Python 3"
    },
    "language_info": {
      "name": "python"
    }
  },
  "cells": [
    {
      "cell_type": "markdown",
      "metadata": {
        "id": "view-in-github",
        "colab_type": "text"
      },
      "source": [
        "<a href=\"https://colab.research.google.com/github/ChitviJoshi/Assignment-4/blob/main/Q5.ipynb\" target=\"_parent\"><img src=\"https://colab.research.google.com/assets/colab-badge.svg\" alt=\"Open In Colab\"/></a>"
      ]
    },
    {
      "cell_type": "code",
      "execution_count": 47,
      "metadata": {
        "colab": {
          "base_uri": "https://localhost:8080/"
        },
        "id": "Eh-pvsM4MHTc",
        "outputId": "8f17235b-6bbb-4a00-889e-cf5fa718be72"
      },
      "outputs": [
        {
          "output_type": "stream",
          "name": "stdout",
          "text": [
            "Writing Q5.cpp\n"
          ]
        }
      ],
      "source": [
        "%%writefile Q5.cpp\n",
        "#include <iostream>\n",
        "#include <queue>\n",
        "using namespace std;\n",
        "\n",
        "class StackTwoQ {\n",
        "    queue<int> q1, q2;\n",
        "\n",
        "public:\n",
        "    void push(int x) {\n",
        "        q2.push(x);\n",
        "        while (!q1.empty()) {\n",
        "            q2.push(q1.front());\n",
        "            q1.pop();\n",
        "        }\n",
        "        swap(q1, q2);\n",
        "        cout << x << \" pushed into stack (TwoQ).\" << endl;\n",
        "    }\n",
        "\n",
        "    void pop() {\n",
        "        if (q1.empty()) {\n",
        "            cout << \"Stack Underflow!\" << endl;\n",
        "            return;\n",
        "        }\n",
        "        cout << q1.front() << \" popped (TwoQ).\" << endl;\n",
        "        q1.pop();\n",
        "    }\n",
        "\n",
        "    void top() {\n",
        "        if (q1.empty()) {\n",
        "            cout << \"Stack is empty!\" << endl;\n",
        "            return;\n",
        "        }\n",
        "        cout << \"Top element (TwoQ): \" << q1.front() << endl;\n",
        "    }\n",
        "};\n",
        "\n",
        "class StackOneQ {\n",
        "    queue<int> q;\n",
        "\n",
        "public:\n",
        "    void push(int x) {\n",
        "        int size = q.size();\n",
        "        q.push(x);\n",
        "        for (int i = 0; i < size; i++) {\n",
        "            q.push(q.front());\n",
        "            q.pop();\n",
        "        }\n",
        "        cout << x << \" pushed into stack (OneQ).\" << endl;\n",
        "    }\n",
        "\n",
        "    void pop() {\n",
        "        if (q.empty()) {\n",
        "            cout << \"Stack Underflow!\" << endl;\n",
        "            return;\n",
        "        }\n",
        "        cout << q.front() << \" popped (OneQ).\" << endl;\n",
        "        q.pop();\n",
        "    }\n",
        "\n",
        "    void top() {\n",
        "        if (q.empty()) {\n",
        "            cout << \"Stack is empty!\" << endl;\n",
        "            return;\n",
        "        }\n",
        "        cout << \"Top element (OneQ): \" << q.front() << endl;\n",
        "    }\n",
        "};\n",
        "\n",
        "int main() {\n",
        "    cout << \"--- Stack using Two Queues ---\" << endl;\n",
        "    StackTwoQ s1;\n",
        "    s1.push(10);\n",
        "    s1.push(20);\n",
        "    s1.push(30);\n",
        "    s1.top();\n",
        "    s1.pop();\n",
        "    s1.top();\n",
        "\n",
        "    cout << \"\\n--- Stack using One Queue ---\" << endl;\n",
        "    StackOneQ s2;\n",
        "    s2.push(5);\n",
        "    s2.push(15);\n",
        "    s2.push(25);\n",
        "    s2.top();\n",
        "    s2.pop();\n",
        "    s2.top();\n",
        "\n",
        "    return 0;\n",
        "}\n",
        "\n",
        "\n",
        "\n",
        "\n"
      ]
    },
    {
      "cell_type": "code",
      "source": [
        "!g++ Q5.cpp -o Q5\n",
        "!./Q5"
      ],
      "metadata": {
        "colab": {
          "base_uri": "https://localhost:8080/"
        },
        "id": "LJGY3RgtNLF0",
        "outputId": "cb52317a-6af4-42c1-e6c4-4dc00a58927f"
      },
      "execution_count": 48,
      "outputs": [
        {
          "output_type": "stream",
          "name": "stdout",
          "text": [
            "--- Stack using Two Queues ---\n",
            "10 pushed into stack (TwoQ).\n",
            "20 pushed into stack (TwoQ).\n",
            "30 pushed into stack (TwoQ).\n",
            "Top element (TwoQ): 30\n",
            "30 popped (TwoQ).\n",
            "Top element (TwoQ): 20\n",
            "\n",
            "--- Stack using One Queue ---\n",
            "5 pushed into stack (OneQ).\n",
            "15 pushed into stack (OneQ).\n",
            "25 pushed into stack (OneQ).\n",
            "Top element (OneQ): 25\n",
            "25 popped (OneQ).\n",
            "Top element (OneQ): 15\n"
          ]
        }
      ]
    }
  ]
}